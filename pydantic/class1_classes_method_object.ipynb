{
 "cells": [
  {
   "cell_type": "code",
   "execution_count": null,
   "id": "0773a07d",
   "metadata": {},
   "outputs": [],
   "source": [
    "{\n",
    "\"busid\":123,\n",
    "\"busname\":\"apsrtc\"\n",
    "}"
   ]
  },
  {
   "cell_type": "code",
   "execution_count": 1,
   "id": "26443693",
   "metadata": {},
   "outputs": [
    {
     "name": "stdout",
     "output_type": "stream",
     "text": [
      "hello world\n"
     ]
    }
   ],
   "source": [
    "print('hello world')"
   ]
  },
  {
   "cell_type": "markdown",
   "id": "cea2b2c6",
   "metadata": {},
   "source": [
    "# Learning python"
   ]
  },
  {
   "cell_type": "markdown",
   "id": "b79626e4",
   "metadata": {},
   "source": [
    "## sub heading"
   ]
  },
  {
   "cell_type": "markdown",
   "id": "818594c0",
   "metadata": {},
   "source": [
    "### sub heading"
   ]
  },
  {
   "cell_type": "code",
   "execution_count": 6,
   "id": "4377899f",
   "metadata": {},
   "outputs": [],
   "source": [
    "name=\"mani\" #declaration & initialization"
   ]
  },
  {
   "cell_type": "markdown",
   "id": "f9a4106b",
   "metadata": {},
   "source": []
  },
  {
   "cell_type": "code",
   "execution_count": 3,
   "id": "d07596f9",
   "metadata": {},
   "outputs": [
    {
     "name": "stdout",
     "output_type": "stream",
     "text": [
      "mani\n"
     ]
    }
   ],
   "source": [
    "print(name)"
   ]
  },
  {
   "cell_type": "code",
   "execution_count": 4,
   "id": "3874665d",
   "metadata": {},
   "outputs": [
    {
     "data": {
      "text/plain": [
       "'mani'"
      ]
     },
     "execution_count": 4,
     "metadata": {},
     "output_type": "execute_result"
    }
   ],
   "source": [
    "name"
   ]
  },
  {
   "cell_type": "code",
   "execution_count": 5,
   "id": "f3258602",
   "metadata": {},
   "outputs": [
    {
     "data": {
      "text/plain": [
       "str"
      ]
     },
     "execution_count": 5,
     "metadata": {},
     "output_type": "execute_result"
    }
   ],
   "source": [
    "type(name)"
   ]
  },
  {
   "cell_type": "code",
   "execution_count": 7,
   "id": "f0fe1ed8",
   "metadata": {},
   "outputs": [],
   "source": [
    "name=23"
   ]
  },
  {
   "cell_type": "code",
   "execution_count": 8,
   "id": "33b3ed68",
   "metadata": {},
   "outputs": [
    {
     "data": {
      "text/plain": [
       "23"
      ]
     },
     "execution_count": 8,
     "metadata": {},
     "output_type": "execute_result"
    }
   ],
   "source": [
    "name"
   ]
  },
  {
   "cell_type": "code",
   "execution_count": 9,
   "id": "9a4ad94d",
   "metadata": {},
   "outputs": [
    {
     "data": {
      "text/plain": [
       "int"
      ]
     },
     "execution_count": 9,
     "metadata": {},
     "output_type": "execute_result"
    }
   ],
   "source": [
    "type(name)"
   ]
  },
  {
   "cell_type": "code",
   "execution_count": 10,
   "id": "4c179bba",
   "metadata": {},
   "outputs": [],
   "source": [
    "person_name=\"mani\"\n",
    "person_height=5.4\n",
    "person_age=29\n"
   ]
  },
  {
   "cell_type": "code",
   "execution_count": 12,
   "id": "9f2f2279",
   "metadata": {},
   "outputs": [
    {
     "data": {
      "text/plain": [
       "29"
      ]
     },
     "execution_count": 12,
     "metadata": {},
     "output_type": "execute_result"
    }
   ],
   "source": [
    "person_name\n",
    "person_height\n",
    "person_age"
   ]
  },
  {
   "cell_type": "code",
   "execution_count": 16,
   "id": "55dcea3f",
   "metadata": {},
   "outputs": [
    {
     "name": "stdout",
     "output_type": "stream",
     "text": [
      "prashanth\n",
      "5.4\n",
      "29\n"
     ]
    }
   ],
   "source": [
    "print(person_name)\n",
    "print(person_height)\n",
    "print(person_age)"
   ]
  },
  {
   "cell_type": "code",
   "execution_count": 15,
   "id": "c5b55349",
   "metadata": {},
   "outputs": [],
   "source": [
    "person_name=\"prashanth\"\n",
    "person_height=5.4\n",
    "person_age=29"
   ]
  },
  {
   "cell_type": "code",
   "execution_count": 17,
   "id": "d8ef3870",
   "metadata": {},
   "outputs": [],
   "source": [
    "class person():\n",
    "    person_name\n",
    "    person_height\n",
    "    person_age"
   ]
  },
  {
   "cell_type": "code",
   "execution_count": 18,
   "id": "91794f0b",
   "metadata": {},
   "outputs": [],
   "source": [
    "main_p=person()"
   ]
  },
  {
   "cell_type": "code",
   "execution_count": 22,
   "id": "b8fbc6dd",
   "metadata": {},
   "outputs": [],
   "source": [
    "main_p.person_name='mani'\n",
    "main_p.person_height=5.4\n",
    "main_p.person_age=29\n"
   ]
  },
  {
   "cell_type": "code",
   "execution_count": 23,
   "id": "10e0eecb",
   "metadata": {},
   "outputs": [
    {
     "name": "stdout",
     "output_type": "stream",
     "text": [
      "mani\n",
      "5.4\n",
      "29\n"
     ]
    }
   ],
   "source": [
    "print(main_p.person_name)\n",
    "print(main_p.person_height)\n",
    "print(main_p.person_age)"
   ]
  },
  {
   "cell_type": "code",
   "execution_count": 24,
   "id": "0588d9da",
   "metadata": {},
   "outputs": [],
   "source": [
    "main_1=person()\n",
    "main_2=person()"
   ]
  },
  {
   "cell_type": "code",
   "execution_count": 25,
   "id": "1f360ef8",
   "metadata": {},
   "outputs": [],
   "source": [
    "main_1.person_name='prashanth'\n",
    "main_1.person_height=5.4\n",
    "main_1.person_age=29"
   ]
  },
  {
   "cell_type": "code",
   "execution_count": 26,
   "id": "e347d722",
   "metadata": {},
   "outputs": [
    {
     "name": "stdout",
     "output_type": "stream",
     "text": [
      "mani\n",
      "5.4\n",
      "29\n",
      "prashanth\n",
      "5.4\n",
      "29\n"
     ]
    }
   ],
   "source": [
    "print(main_p.person_name)\n",
    "print(main_p.person_height)\n",
    "print(main_p.person_age)\n",
    "\n",
    "\n",
    "print(main_1.person_name)\n",
    "print(main_1.person_height)\n",
    "print(main_1.person_age)"
   ]
  },
  {
   "cell_type": "code",
   "execution_count": 27,
   "id": "46309e4b",
   "metadata": {},
   "outputs": [],
   "source": [
    "def print_details():\n",
    "    print(main_1.person_name)\n",
    "    print(main_1.person_height)\n",
    "    print(main_1.person_age)"
   ]
  },
  {
   "cell_type": "code",
   "execution_count": 28,
   "id": "bdeace20",
   "metadata": {},
   "outputs": [
    {
     "name": "stdout",
     "output_type": "stream",
     "text": [
      "prashanth\n",
      "5.4\n",
      "29\n"
     ]
    }
   ],
   "source": [
    "print_details()"
   ]
  },
  {
   "cell_type": "code",
   "execution_count": 29,
   "id": "b148fe72",
   "metadata": {},
   "outputs": [],
   "source": [
    "def print_details(obj_name):\n",
    "    print(obj_name.person_name)\n",
    "    print(obj_name.person_height)\n",
    "    print(obj_name.person_age)"
   ]
  },
  {
   "cell_type": "code",
   "execution_count": 30,
   "id": "fc10842f",
   "metadata": {},
   "outputs": [
    {
     "ename": "TypeError",
     "evalue": "print_details() missing 1 required positional argument: 'obj_name'",
     "output_type": "error",
     "traceback": [
      "\u001b[31m---------------------------------------------------------------------------\u001b[39m",
      "\u001b[31mTypeError\u001b[39m                                 Traceback (most recent call last)",
      "\u001b[36mCell\u001b[39m\u001b[36m \u001b[39m\u001b[32mIn[30]\u001b[39m\u001b[32m, line 1\u001b[39m\n\u001b[32m----> \u001b[39m\u001b[32m1\u001b[39m \u001b[43mprint_details\u001b[49m\u001b[43m(\u001b[49m\u001b[43m)\u001b[49m\n",
      "\u001b[31mTypeError\u001b[39m: print_details() missing 1 required positional argument: 'obj_name'"
     ]
    }
   ],
   "source": [
    "print_details()"
   ]
  },
  {
   "cell_type": "code",
   "execution_count": 31,
   "id": "aedaa3e7",
   "metadata": {},
   "outputs": [
    {
     "name": "stdout",
     "output_type": "stream",
     "text": [
      "mani\n"
     ]
    }
   ],
   "source": [
    "print(main_p.person_name)"
   ]
  },
  {
   "cell_type": "code",
   "execution_count": 32,
   "id": "32af233c",
   "metadata": {},
   "outputs": [
    {
     "name": "stdout",
     "output_type": "stream",
     "text": [
      "mani\n",
      "5.4\n",
      "29\n"
     ]
    }
   ],
   "source": [
    "print_details(main_p)"
   ]
  },
  {
   "cell_type": "code",
   "execution_count": 33,
   "id": "f34f2d07",
   "metadata": {},
   "outputs": [
    {
     "name": "stdout",
     "output_type": "stream",
     "text": [
      "prashanth\n",
      "5.4\n",
      "29\n"
     ]
    }
   ],
   "source": [
    "print_details(main_1)"
   ]
  },
  {
   "cell_type": "markdown",
   "id": "d73335a7",
   "metadata": {},
   "source": [
    "package (folder)\n",
    "module (.py)\n",
    "class (class )\n",
    "function ( () )\n",
    "variable (v_name)\n"
   ]
  },
  {
   "cell_type": "code",
   "execution_count": null,
   "id": "81cd2238",
   "metadata": {},
   "outputs": [],
   "source": [
    "class person_class():\n",
    "    person_name\n",
    "    person_height\n",
    "    person_age"
   ]
  },
  {
   "cell_type": "code",
   "execution_count": 34,
   "id": "1ee41260",
   "metadata": {},
   "outputs": [],
   "source": [
    "person_name:str"
   ]
  },
  {
   "cell_type": "code",
   "execution_count": 35,
   "id": "276db6cd",
   "metadata": {},
   "outputs": [
    {
     "data": {
      "text/plain": [
       "str"
      ]
     },
     "execution_count": 35,
     "metadata": {},
     "output_type": "execute_result"
    }
   ],
   "source": [
    "type(person_name)"
   ]
  },
  {
   "cell_type": "code",
   "execution_count": 36,
   "id": "e1cafc81",
   "metadata": {},
   "outputs": [],
   "source": [
    "person_name=29"
   ]
  },
  {
   "cell_type": "code",
   "execution_count": 37,
   "id": "d099b94b",
   "metadata": {},
   "outputs": [
    {
     "data": {
      "text/plain": [
       "29"
      ]
     },
     "execution_count": 37,
     "metadata": {},
     "output_type": "execute_result"
    }
   ],
   "source": [
    "person_name"
   ]
  },
  {
   "cell_type": "code",
   "execution_count": 38,
   "id": "650d6900",
   "metadata": {},
   "outputs": [
    {
     "data": {
      "text/plain": [
       "int"
      ]
     },
     "execution_count": 38,
     "metadata": {},
     "output_type": "execute_result"
    }
   ],
   "source": [
    "type(person_name)"
   ]
  },
  {
   "cell_type": "code",
   "execution_count": 39,
   "id": "d29f6dc0",
   "metadata": {},
   "outputs": [],
   "source": [
    "class person_class():\n",
    "    person_name:str\n",
    "    person_height:float\n",
    "    person_age:int"
   ]
  },
  {
   "cell_type": "code",
   "execution_count": 40,
   "id": "01925416",
   "metadata": {},
   "outputs": [],
   "source": [
    "per_obj=person_class()"
   ]
  },
  {
   "cell_type": "code",
   "execution_count": 41,
   "id": "08851446",
   "metadata": {},
   "outputs": [],
   "source": [
    "per_obj.person_age=\"twenty\""
   ]
  },
  {
   "cell_type": "code",
   "execution_count": 42,
   "id": "2c03b855",
   "metadata": {},
   "outputs": [
    {
     "data": {
      "text/plain": [
       "'twenty'"
      ]
     },
     "execution_count": 42,
     "metadata": {},
     "output_type": "execute_result"
    }
   ],
   "source": [
    "per_obj.person_age"
   ]
  },
  {
   "cell_type": "code",
   "execution_count": null,
   "id": "d4375e4b",
   "metadata": {},
   "outputs": [],
   "source": []
  }
 ],
 "metadata": {
  "kernelspec": {
   "display_name": "Python 3",
   "language": "python",
   "name": "python3"
  },
  "language_info": {
   "codemirror_mode": {
    "name": "ipython",
    "version": 3
   },
   "file_extension": ".py",
   "mimetype": "text/x-python",
   "name": "python",
   "nbconvert_exporter": "python",
   "pygments_lexer": "ipython3",
   "version": "3.11.9"
  }
 },
 "nbformat": 4,
 "nbformat_minor": 5
}
